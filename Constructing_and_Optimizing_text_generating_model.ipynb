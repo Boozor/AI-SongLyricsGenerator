{
  "nbformat": 4,
  "nbformat_minor": 0,
  "metadata": {
    "colab": {
      "name": "Constructing_and_Optimizing_text_generating_model.ipynb",
      "provenance": [],
      "authorship_tag": "ABX9TyP4nfenQTTJo2wM1BBcE50T",
      "include_colab_link": true
    },
    "kernelspec": {
      "name": "python3",
      "display_name": "Python 3"
    },
    "language_info": {
      "name": "python"
    }
  },
  "cells": [
    {
      "cell_type": "markdown",
      "metadata": {
        "id": "view-in-github",
        "colab_type": "text"
      },
      "source": [
        "<a href=\"https://colab.research.google.com/github/LeoVal1/Constructing_and_Optimizing_Text_Generating_Model/blob/main/Constructing_and_Optimizing_text_generating_model.ipynb\" target=\"_parent\"><img src=\"https://colab.research.google.com/assets/colab-badge.svg\" alt=\"Open In Colab\"/></a>"
      ]
    },
    {
      "cell_type": "code",
      "execution_count": null,
      "metadata": {
        "id": "rCnKO7hlq0MN"
      },
      "outputs": [],
      "source": [
        ""
      ]
    },
    {
      "cell_type": "markdown",
      "metadata": {
        "id": "Ph5eir3Pf-3z"
      },
      "source": [
        "# Constructing and Optimizing the Text Generation Model"
      ]
    },
    {
      "cell_type": "markdown",
      "metadata": {
        "id": "dCxhW3mtLmfb"
      },
      "source": [
        "Dataset: [Kaggle Song Lyrics Dataset](https://www.kaggle.com/mousehead/songlyrics)"
      ]
    },
    {
      "cell_type": "markdown",
      "metadata": {
        "id": "4aHK2CYygXom"
      },
      "source": [
        "## Import TensorFlow and related functions"
      ]
    },
    {
      "cell_type": "code",
      "execution_count": 1,
      "metadata": {
        "id": "2LmLTREBf5ng"
      },
      "outputs": [],
      "source": [
        "import tensorflow as tf\n",
        "\n",
        "from tensorflow.keras.preprocessing.text import Tokenizer\n",
        "from tensorflow.keras.preprocessing.sequence import pad_sequences\n",
        "\n",
        "# Other imports for processing data\n",
        "import string\n",
        "import numpy as np\n",
        "import pandas as pd"
      ]
    },
    {
      "cell_type": "markdown",
      "metadata": {
        "id": "GmLTO_dpgge9"
      },
      "source": [
        "## Get the Dataset\n",
        "\n",
        "As noted above, we'll utilize the [Song Lyrics dataset](https://www.kaggle.com/mousehead/songlyrics) on Kaggle again."
      ]
    },
    {
      "cell_type": "code",
      "execution_count": 2,
      "metadata": {
        "id": "4Bf5FVHfganK",
        "colab": {
          "base_uri": "https://localhost:8080/"
        },
        "outputId": "cfdd08d0-1fa8-49b3-ab31-b9646329f5ba"
      },
      "outputs": [
        {
          "output_type": "stream",
          "name": "stdout",
          "text": [
            "--2022-08-07 23:39:20--  https://drive.google.com/uc?id=1LiJFZd41ofrWoBtW-pMYsfz1w8Ny0Bj8\n",
            "Resolving drive.google.com (drive.google.com)... 108.177.125.102, 108.177.125.100, 108.177.125.113, ...\n",
            "Connecting to drive.google.com (drive.google.com)|108.177.125.102|:443... connected.\n",
            "HTTP request sent, awaiting response... 303 See Other\n",
            "Location: https://doc-04-ak-docs.googleusercontent.com/docs/securesc/ha0ro937gcuc7l7deffksulhg5h7mbp1/4r7abe2ha1ftub1bot2basic27s1podj/1659915525000/11118900490791463723/*/1LiJFZd41ofrWoBtW-pMYsfz1w8Ny0Bj8?uuid=c48d1be3-2650-4d5d-9dd5-066ee771ebb4 [following]\n",
            "Warning: wildcards not supported in HTTP.\n",
            "--2022-08-07 23:39:26--  https://doc-04-ak-docs.googleusercontent.com/docs/securesc/ha0ro937gcuc7l7deffksulhg5h7mbp1/4r7abe2ha1ftub1bot2basic27s1podj/1659915525000/11118900490791463723/*/1LiJFZd41ofrWoBtW-pMYsfz1w8Ny0Bj8?uuid=c48d1be3-2650-4d5d-9dd5-066ee771ebb4\n",
            "Resolving doc-04-ak-docs.googleusercontent.com (doc-04-ak-docs.googleusercontent.com)... 142.250.157.132, 2404:6800:4008:c13::84\n",
            "Connecting to doc-04-ak-docs.googleusercontent.com (doc-04-ak-docs.googleusercontent.com)|142.250.157.132|:443... connected.\n",
            "HTTP request sent, awaiting response... 200 OK\n",
            "Length: 72436445 (69M) [text/csv]\n",
            "Saving to: ‘/tmp/songdata.csv’\n",
            "\n",
            "/tmp/songdata.csv   100%[===================>]  69.08M  86.8MB/s    in 0.8s    \n",
            "\n",
            "2022-08-07 23:39:27 (86.8 MB/s) - ‘/tmp/songdata.csv’ saved [72436445/72436445]\n",
            "\n"
          ]
        }
      ],
      "source": [
        "!wget --no-check-certificate \\\n",
        "    https://drive.google.com/uc?id=1LiJFZd41ofrWoBtW-pMYsfz1w8Ny0Bj8 \\\n",
        "    -O /tmp/songdata.csv"
      ]
    },
    {
      "cell_type": "markdown",
      "metadata": {
        "id": "Jz9x-7dWihxx"
      },
      "source": [
        "## 250 Songs\n",
        "\n",
        "Now we've seen a model trained on just a small sample of songs, and how this often leads to repetition as you get further along in trying to generate new text. Let's switch to using the 250 songs instead, and see if our output improves. This will actually be nearly 10K lines of lyrics, which should be sufficient.\n",
        "\n",
        "Note that we won't use the full dataset here as it will take up quite a bit of RAM and processing time, but you're welcome to try doing so on your own later. If interested, you'll likely want to use only some of the more common words for the Tokenizer, which will help shrink processing time and memory needed (or else you'd have an output array hundreds of thousands of words long)."
      ]
    },
    {
      "cell_type": "markdown",
      "metadata": {
        "id": "nWbMN_19jfRT"
      },
      "source": [
        "### Preprocessing"
      ]
    },
    {
      "cell_type": "code",
      "execution_count": 3,
      "metadata": {
        "id": "LRmPPJegovBe"
      },
      "outputs": [],
      "source": [
        "def tokenize_corpus(corpus, num_words=-1):\n",
        "  # Fit a Tokenizer on the corpus\n",
        "  if num_words > -1:\n",
        "    tokenizer = Tokenizer(num_words=num_words)\n",
        "  else:\n",
        "    tokenizer = Tokenizer()\n",
        "  tokenizer.fit_on_texts(corpus)\n",
        "  return tokenizer\n",
        "\n",
        "def create_lyrics_corpus(dataset, field):\n",
        "  # Remove all other punctuation\n",
        "  dataset[field] = dataset[field].str.replace('[{}]'.format(string.punctuation), '')\n",
        "  # Make it lowercase\n",
        "  dataset[field] = dataset[field].str.lower()\n",
        "  # Make it one long string to split by line\n",
        "  lyrics = dataset[field].str.cat()\n",
        "  corpus = lyrics.split('\\n')\n",
        "  # Remove any trailing whitespace\n",
        "  for l in range(len(corpus)):\n",
        "    corpus[l] = corpus[l].rstrip()\n",
        "  # Remove any empty lines\n",
        "  corpus = [l for l in corpus if l != '']\n",
        "\n",
        "  return corpus"
      ]
    },
    {
      "cell_type": "code",
      "execution_count": 4,
      "metadata": {
        "id": "kIGedF3XjHj4",
        "colab": {
          "base_uri": "https://localhost:8080/"
        },
        "outputId": "29c8eed8-00b2-4ad6-dd95-6934b7ba888b"
      },
      "outputs": [
        {
          "output_type": "stream",
          "name": "stdout",
          "text": [
            "2000\n"
          ]
        },
        {
          "output_type": "stream",
          "name": "stderr",
          "text": [
            "/usr/local/lib/python3.7/dist-packages/ipykernel_launcher.py:12: FutureWarning: The default value of regex will change from True to False in a future version.\n",
            "  if sys.path[0] == '':\n"
          ]
        }
      ],
      "source": [
        "def tokenize_corpus(corpus, num_words=-1):\n",
        "  # Fit a Tokenizer on the corpus\n",
        "  if num_words > -1:\n",
        "    tokenizer = Tokenizer(num_words=num_words)\n",
        "  else:\n",
        "    tokenizer = Tokenizer()\n",
        "  tokenizer.fit_on_texts(corpus)\n",
        "  return tokenizer\n",
        "\n",
        "# Read the dataset from csv - this time with 250 songs\n",
        "dataset = pd.read_csv('/tmp/songdata.csv', dtype=str)[:250]\n",
        "# Create the corpus using the 'text' column containing lyrics\n",
        "corpus = create_lyrics_corpus(dataset, 'text')\n",
        "# Tokenize the corpus\n",
        "tokenizer = tokenize_corpus(corpus, num_words=2000)\n",
        "total_words = tokenizer.num_words\n",
        "\n",
        "# There should be a lot more words now\n",
        "print(total_words)"
      ]
    },
    {
      "cell_type": "markdown",
      "metadata": {
        "id": "quoDmw_FkNBA"
      },
      "source": [
        "### Create Sequences and Labels"
      ]
    },
    {
      "cell_type": "code",
      "execution_count": 5,
      "metadata": {
        "id": "kkLAf3HmkPSo"
      },
      "outputs": [],
      "source": [
        "sequences = []\n",
        "for line in corpus:\n",
        "\ttoken_list = tokenizer.texts_to_sequences([line])[0]\n",
        "\tfor i in range(1, len(token_list)):\n",
        "\t\tn_gram_sequence = token_list[:i+1]\n",
        "\t\tsequences.append(n_gram_sequence)\n",
        "\n",
        "# Pad sequences for equal input length \n",
        "max_sequence_len = max([len(seq) for seq in sequences])\n",
        "sequences = np.array(pad_sequences(sequences, maxlen=max_sequence_len, padding='pre'))\n",
        "\n",
        "# Split sequences between the \"input\" sequence and \"output\" predicted word\n",
        "input_sequences, labels = sequences[:,:-1], sequences[:,-1]\n",
        "# One-hot encode the labels\n",
        "one_hot_labels = tf.keras.utils.to_categorical(labels, num_classes=total_words)"
      ]
    },
    {
      "cell_type": "markdown",
      "metadata": {
        "id": "cECbqT-blMk-"
      },
      "source": [
        "### Train a (Better) Text Generation Model\n",
        "\n",
        "With more data, we'll cut off after 100 epochs to avoid keeping you here all day. You'll also want to change your runtime type to GPU if you haven't already (you'll need to re-run the above cells if you change runtimes)."
      ]
    },
    {
      "cell_type": "code",
      "execution_count": 6,
      "metadata": {
        "id": "7nHOp6uWlP_P",
        "colab": {
          "base_uri": "https://localhost:8080/"
        },
        "outputId": "e2470251-c650-4c4d-b7fa-1c4bc598a0c5"
      },
      "outputs": [
        {
          "output_type": "stream",
          "name": "stdout",
          "text": [
            "Epoch 1/100\n",
            "1480/1480 [==============================] - 35s 20ms/step - loss: 5.9831 - accuracy: 0.0468\n",
            "Epoch 2/100\n",
            "1480/1480 [==============================] - 29s 19ms/step - loss: 5.6968 - accuracy: 0.0500\n",
            "Epoch 3/100\n",
            "1480/1480 [==============================] - 28s 19ms/step - loss: 5.4932 - accuracy: 0.0683\n",
            "Epoch 4/100\n",
            "1480/1480 [==============================] - 30s 20ms/step - loss: 5.2716 - accuracy: 0.1009\n",
            "Epoch 5/100\n",
            "1480/1480 [==============================] - 29s 19ms/step - loss: 5.1299 - accuracy: 0.1124\n",
            "Epoch 6/100\n",
            "1480/1480 [==============================] - 30s 20ms/step - loss: 5.0043 - accuracy: 0.1252\n",
            "Epoch 7/100\n",
            "1480/1480 [==============================] - 29s 20ms/step - loss: 4.8851 - accuracy: 0.1365\n",
            "Epoch 8/100\n",
            "1480/1480 [==============================] - 30s 20ms/step - loss: 4.7771 - accuracy: 0.1479\n",
            "Epoch 9/100\n",
            "1480/1480 [==============================] - 28s 19ms/step - loss: 4.6712 - accuracy: 0.1588\n",
            "Epoch 10/100\n",
            "1480/1480 [==============================] - 28s 19ms/step - loss: 4.5741 - accuracy: 0.1696\n",
            "Epoch 11/100\n",
            "1480/1480 [==============================] - 29s 20ms/step - loss: 4.4846 - accuracy: 0.1800\n",
            "Epoch 12/100\n",
            "1480/1480 [==============================] - 28s 19ms/step - loss: 4.3975 - accuracy: 0.1921\n",
            "Epoch 13/100\n",
            "1480/1480 [==============================] - 29s 20ms/step - loss: 4.3183 - accuracy: 0.2000\n",
            "Epoch 14/100\n",
            "1480/1480 [==============================] - 28s 19ms/step - loss: 4.2474 - accuracy: 0.2085\n",
            "Epoch 15/100\n",
            "1480/1480 [==============================] - 28s 19ms/step - loss: 4.1818 - accuracy: 0.2161\n",
            "Epoch 16/100\n",
            "1480/1480 [==============================] - 29s 20ms/step - loss: 4.1221 - accuracy: 0.2234\n",
            "Epoch 17/100\n",
            "1480/1480 [==============================] - 28s 19ms/step - loss: 4.0651 - accuracy: 0.2302\n",
            "Epoch 18/100\n",
            "1480/1480 [==============================] - 29s 20ms/step - loss: 4.0113 - accuracy: 0.2379\n",
            "Epoch 19/100\n",
            "1480/1480 [==============================] - 28s 19ms/step - loss: 3.9514 - accuracy: 0.2476\n",
            "Epoch 20/100\n",
            "1480/1480 [==============================] - 28s 19ms/step - loss: 3.8882 - accuracy: 0.2563\n",
            "Epoch 21/100\n",
            "1480/1480 [==============================] - 29s 20ms/step - loss: 3.8266 - accuracy: 0.2655\n",
            "Epoch 22/100\n",
            "1480/1480 [==============================] - 28s 19ms/step - loss: 3.7658 - accuracy: 0.2738\n",
            "Epoch 23/100\n",
            "1480/1480 [==============================] - 29s 20ms/step - loss: 3.7063 - accuracy: 0.2834\n",
            "Epoch 24/100\n",
            "1480/1480 [==============================] - 28s 19ms/step - loss: 3.6502 - accuracy: 0.2925\n",
            "Epoch 25/100\n",
            "1480/1480 [==============================] - 28s 19ms/step - loss: 3.5943 - accuracy: 0.2997\n",
            "Epoch 26/100\n",
            "1480/1480 [==============================] - 29s 20ms/step - loss: 3.5379 - accuracy: 0.3094\n",
            "Epoch 27/100\n",
            "1480/1480 [==============================] - 28s 19ms/step - loss: 3.4881 - accuracy: 0.3166\n",
            "Epoch 28/100\n",
            "1480/1480 [==============================] - 29s 19ms/step - loss: 3.4420 - accuracy: 0.3223\n",
            "Epoch 29/100\n",
            "1480/1480 [==============================] - 28s 19ms/step - loss: 3.3978 - accuracy: 0.3287\n",
            "Epoch 30/100\n",
            "1480/1480 [==============================] - 28s 19ms/step - loss: 3.3626 - accuracy: 0.3338\n",
            "Epoch 31/100\n",
            "1480/1480 [==============================] - 29s 20ms/step - loss: 3.3230 - accuracy: 0.3381\n",
            "Epoch 32/100\n",
            "1480/1480 [==============================] - 28s 19ms/step - loss: 3.2903 - accuracy: 0.3447\n",
            "Epoch 33/100\n",
            "1480/1480 [==============================] - 29s 20ms/step - loss: 3.2541 - accuracy: 0.3501\n",
            "Epoch 34/100\n",
            "1480/1480 [==============================] - 28s 19ms/step - loss: 3.2228 - accuracy: 0.3560\n",
            "Epoch 35/100\n",
            "1480/1480 [==============================] - 28s 19ms/step - loss: 3.1932 - accuracy: 0.3600\n",
            "Epoch 36/100\n",
            "1480/1480 [==============================] - 29s 20ms/step - loss: 3.1641 - accuracy: 0.3636\n",
            "Epoch 37/100\n",
            "1480/1480 [==============================] - 28s 19ms/step - loss: 3.1332 - accuracy: 0.3688\n",
            "Epoch 38/100\n",
            "1480/1480 [==============================] - 29s 20ms/step - loss: 3.1109 - accuracy: 0.3735\n",
            "Epoch 39/100\n",
            "1480/1480 [==============================] - 28s 19ms/step - loss: 3.0809 - accuracy: 0.3765\n",
            "Epoch 40/100\n",
            "1480/1480 [==============================] - 28s 19ms/step - loss: 3.0559 - accuracy: 0.3821\n",
            "Epoch 41/100\n",
            "1480/1480 [==============================] - 29s 19ms/step - loss: 3.0305 - accuracy: 0.3861\n",
            "Epoch 42/100\n",
            "1480/1480 [==============================] - 29s 19ms/step - loss: 3.0058 - accuracy: 0.3915\n",
            "Epoch 43/100\n",
            "1480/1480 [==============================] - 30s 20ms/step - loss: 2.9832 - accuracy: 0.3930\n",
            "Epoch 44/100\n",
            "1480/1480 [==============================] - 29s 19ms/step - loss: 2.9608 - accuracy: 0.3976\n",
            "Epoch 45/100\n",
            "1480/1480 [==============================] - 30s 20ms/step - loss: 2.9379 - accuracy: 0.3999\n",
            "Epoch 46/100\n",
            "1480/1480 [==============================] - 29s 19ms/step - loss: 2.9180 - accuracy: 0.4037\n",
            "Epoch 47/100\n",
            "1480/1480 [==============================] - 28s 19ms/step - loss: 2.8953 - accuracy: 0.4074\n",
            "Epoch 48/100\n",
            "1480/1480 [==============================] - 30s 20ms/step - loss: 2.8726 - accuracy: 0.4119\n",
            "Epoch 49/100\n",
            "1480/1480 [==============================] - 28s 19ms/step - loss: 2.8521 - accuracy: 0.4151\n",
            "Epoch 50/100\n",
            "1480/1480 [==============================] - 29s 20ms/step - loss: 2.8348 - accuracy: 0.4170\n",
            "Epoch 51/100\n",
            "1480/1480 [==============================] - 28s 19ms/step - loss: 2.8143 - accuracy: 0.4209\n",
            "Epoch 52/100\n",
            "1480/1480 [==============================] - 28s 19ms/step - loss: 2.7954 - accuracy: 0.4243\n",
            "Epoch 53/100\n",
            "1480/1480 [==============================] - 29s 20ms/step - loss: 2.7812 - accuracy: 0.4255\n",
            "Epoch 54/100\n",
            "1480/1480 [==============================] - 28s 19ms/step - loss: 2.7594 - accuracy: 0.4300\n",
            "Epoch 55/100\n",
            "1480/1480 [==============================] - 29s 20ms/step - loss: 2.7460 - accuracy: 0.4314\n",
            "Epoch 56/100\n",
            "1480/1480 [==============================] - 28s 19ms/step - loss: 2.7283 - accuracy: 0.4347\n",
            "Epoch 57/100\n",
            "1480/1480 [==============================] - 28s 19ms/step - loss: 2.7111 - accuracy: 0.4388\n",
            "Epoch 58/100\n",
            "1480/1480 [==============================] - 30s 20ms/step - loss: 2.6928 - accuracy: 0.4416\n",
            "Epoch 59/100\n",
            "1480/1480 [==============================] - 29s 20ms/step - loss: 2.6761 - accuracy: 0.4438\n",
            "Epoch 60/100\n",
            "1480/1480 [==============================] - 30s 20ms/step - loss: 2.6637 - accuracy: 0.4456\n",
            "Epoch 61/100\n",
            "1480/1480 [==============================] - 29s 19ms/step - loss: 2.6482 - accuracy: 0.4487\n",
            "Epoch 62/100\n",
            "1480/1480 [==============================] - 30s 20ms/step - loss: 2.6353 - accuracy: 0.4506\n",
            "Epoch 63/100\n",
            "1480/1480 [==============================] - 29s 19ms/step - loss: 2.6225 - accuracy: 0.4520\n",
            "Epoch 64/100\n",
            "1480/1480 [==============================] - 29s 19ms/step - loss: 2.6041 - accuracy: 0.4572\n",
            "Epoch 65/100\n",
            "1480/1480 [==============================] - 30s 20ms/step - loss: 2.5898 - accuracy: 0.4605\n",
            "Epoch 66/100\n",
            "1480/1480 [==============================] - 29s 19ms/step - loss: 2.5810 - accuracy: 0.4622\n",
            "Epoch 67/100\n",
            "1480/1480 [==============================] - 30s 20ms/step - loss: 2.5682 - accuracy: 0.4635\n",
            "Epoch 68/100\n",
            "1480/1480 [==============================] - 29s 19ms/step - loss: 2.5541 - accuracy: 0.4631\n",
            "Epoch 69/100\n",
            "1480/1480 [==============================] - 29s 19ms/step - loss: 2.5461 - accuracy: 0.4662\n",
            "Epoch 70/100\n",
            "1480/1480 [==============================] - 30s 20ms/step - loss: 2.5291 - accuracy: 0.4697\n",
            "Epoch 71/100\n",
            "1480/1480 [==============================] - 28s 19ms/step - loss: 2.5229 - accuracy: 0.4702\n",
            "Epoch 72/100\n",
            "1480/1480 [==============================] - 30s 20ms/step - loss: 2.5087 - accuracy: 0.4721\n",
            "Epoch 73/100\n",
            "1480/1480 [==============================] - 28s 19ms/step - loss: 2.4961 - accuracy: 0.4742\n",
            "Epoch 74/100\n",
            "1480/1480 [==============================] - 29s 19ms/step - loss: 2.4860 - accuracy: 0.4767\n",
            "Epoch 75/100\n",
            "1480/1480 [==============================] - 30s 20ms/step - loss: 2.4753 - accuracy: 0.4775\n",
            "Epoch 76/100\n",
            "1480/1480 [==============================] - 28s 19ms/step - loss: 2.4634 - accuracy: 0.4794\n",
            "Epoch 77/100\n",
            "1480/1480 [==============================] - 29s 20ms/step - loss: 2.4550 - accuracy: 0.4818\n",
            "Epoch 78/100\n",
            "1480/1480 [==============================] - 28s 19ms/step - loss: 2.4451 - accuracy: 0.4835\n",
            "Epoch 79/100\n",
            "1480/1480 [==============================] - 28s 19ms/step - loss: 2.4358 - accuracy: 0.4849\n",
            "Epoch 80/100\n",
            "1480/1480 [==============================] - 30s 20ms/step - loss: 2.4203 - accuracy: 0.4879\n",
            "Epoch 81/100\n",
            "1480/1480 [==============================] - 28s 19ms/step - loss: 2.4177 - accuracy: 0.4864\n",
            "Epoch 82/100\n",
            "1480/1480 [==============================] - 29s 20ms/step - loss: 2.4042 - accuracy: 0.4897\n",
            "Epoch 83/100\n",
            "1480/1480 [==============================] - 28s 19ms/step - loss: 2.3973 - accuracy: 0.4910\n",
            "Epoch 84/100\n",
            "1480/1480 [==============================] - 28s 19ms/step - loss: 2.3857 - accuracy: 0.4939\n",
            "Epoch 85/100\n",
            "1480/1480 [==============================] - 29s 20ms/step - loss: 2.3815 - accuracy: 0.4939\n",
            "Epoch 86/100\n",
            "1480/1480 [==============================] - 28s 19ms/step - loss: 2.3694 - accuracy: 0.4968\n",
            "Epoch 87/100\n",
            "1480/1480 [==============================] - 29s 20ms/step - loss: 2.3636 - accuracy: 0.4972\n",
            "Epoch 88/100\n",
            "1480/1480 [==============================] - 28s 19ms/step - loss: 2.3536 - accuracy: 0.5000\n",
            "Epoch 89/100\n",
            "1480/1480 [==============================] - 29s 19ms/step - loss: 2.3421 - accuracy: 0.5020\n",
            "Epoch 90/100\n",
            "1480/1480 [==============================] - 29s 19ms/step - loss: 2.3328 - accuracy: 0.5020\n",
            "Epoch 91/100\n",
            "1480/1480 [==============================] - 28s 19ms/step - loss: 2.3254 - accuracy: 0.5039\n",
            "Epoch 92/100\n",
            "1480/1480 [==============================] - 29s 20ms/step - loss: 2.3238 - accuracy: 0.5040\n",
            "Epoch 93/100\n",
            "1480/1480 [==============================] - 28s 19ms/step - loss: 2.3113 - accuracy: 0.5072\n",
            "Epoch 94/100\n",
            "1480/1480 [==============================] - 29s 20ms/step - loss: 2.3074 - accuracy: 0.5071\n",
            "Epoch 95/100\n",
            "1480/1480 [==============================] - 28s 19ms/step - loss: 2.3005 - accuracy: 0.5087\n",
            "Epoch 96/100\n",
            "1480/1480 [==============================] - 28s 19ms/step - loss: 2.2919 - accuracy: 0.5093\n",
            "Epoch 97/100\n",
            "1480/1480 [==============================] - 29s 20ms/step - loss: 2.2818 - accuracy: 0.5138\n",
            "Epoch 98/100\n",
            "1480/1480 [==============================] - 28s 19ms/step - loss: 2.2806 - accuracy: 0.5121\n",
            "Epoch 99/100\n",
            "1480/1480 [==============================] - 29s 20ms/step - loss: 2.2664 - accuracy: 0.5154\n",
            "Epoch 100/100\n",
            "1480/1480 [==============================] - 28s 19ms/step - loss: 2.2615 - accuracy: 0.5160\n"
          ]
        }
      ],
      "source": [
        "from tensorflow.keras.models import Sequential\n",
        "from tensorflow.keras.layers import Embedding, LSTM, Dense, Bidirectional\n",
        "\n",
        "model = Sequential()\n",
        "model.add(Embedding(total_words, 64, input_length=max_sequence_len-1))\n",
        "model.add(Bidirectional(LSTM(20)))\n",
        "model.add(Dense(total_words, activation='softmax'))\n",
        "model.compile(loss='categorical_crossentropy', optimizer='adam', metrics=['accuracy'])\n",
        "history = model.fit(input_sequences, one_hot_labels, epochs=100, verbose=1)"
      ]
    },
    {
      "cell_type": "markdown",
      "metadata": {
        "id": "MgvIz20nlQcq"
      },
      "source": [
        "### View the Training Graph"
      ]
    },
    {
      "cell_type": "code",
      "execution_count": 7,
      "metadata": {
        "id": "rOqmmarvlSLh",
        "colab": {
          "base_uri": "https://localhost:8080/",
          "height": 279
        },
        "outputId": "f9517af4-874b-4438-adde-dda01c1856b9"
      },
      "outputs": [
        {
          "output_type": "display_data",
          "data": {
            "text/plain": [
              "<Figure size 432x288 with 1 Axes>"
            ],
            "image/png": "[encoded data removed]"
          },
          "metadata": {
            "needs_background": "light"
          }
        }
      ],
      "source": [
        "import matplotlib.pyplot as plt\n",
        "\n",
        "def plot_graphs(history, string):\n",
        "  plt.plot(history.history[string])\n",
        "  plt.xlabel(\"Epochs\")\n",
        "  plt.ylabel(string)\n",
        "  plt.show()\n",
        "\n",
        "plot_graphs(history, 'accuracy')"
      ]
    },
    {
      "cell_type": "markdown",
      "metadata": {
        "id": "ISLZZGlQlSxh"
      },
      "source": [
        "### Generate better lyrics!\n",
        "\n",
        "This time around, we should be able to get a more interesting output with less repetition."
      ]
    },
    {
      "cell_type": "code",
      "execution_count": 8,
      "metadata": {
        "id": "P96oVMk3lU7y",
        "colab": {
          "base_uri": "https://localhost:8080/"
        },
        "outputId": "095bcd4f-ed7f-4689-e2a1-5b069a871cfd"
      },
      "outputs": [
        {
          "output_type": "stream",
          "name": "stdout",
          "text": [
            "im feeling chills the light of a cat into my tongue were the sound of past to diddle to the happiest streets though the times are making past office adore ho tiger damn worlds come back crown having anything id lot past plane evil buy images tasted conceal baa conceal bet nee lights go wild of tree landslide y louder nosotros killer gritty conceal explain hate absentminded nancy miss hammer cherry are runner slow see lets lets theyll take playground each day dance in the street lights go round laughed success care whom whom take baa sky face are wide season everyday wants\n"
          ]
        }
      ],
      "source": [
        "seed_text = \"im feeling chills\"\n",
        "next_words = 100\n",
        "  \n",
        "for _ in range(next_words):\n",
        "\ttoken_list = tokenizer.texts_to_sequences([seed_text])[0]\n",
        "\ttoken_list = pad_sequences([token_list], maxlen=max_sequence_len-1, padding='pre')\n",
        "\tpredicted = np.argmax(model.predict(token_list), axis=-1)\n",
        "\toutput_word = \"\"\n",
        "\tfor word, index in tokenizer.word_index.items():\n",
        "\t\tif index == predicted:\n",
        "\t\t\toutput_word = word\n",
        "\t\t\tbreak\n",
        "\tseed_text += \" \" + output_word\n",
        "print(seed_text)"
      ]
    },
    {
      "cell_type": "markdown",
      "metadata": {
        "id": "upgJKV8_oRU9"
      },
      "source": [
        "### Varying the Possible Outputs\n",
        "\n",
        "In running the above, you may notice that the same seed text will generate similar outputs. This is because the code is currently always choosing the top predicted class as the next word. What if you wanted more variance in the output? \n",
        "\n",
        "Switching from `model.predict_classes` to `model.predict_proba` will get us all of the class probabilities. We can combine this with `np.random.choice` to select a given predicted output based on a probability, thereby giving a bit more randomness to our outputs."
      ]
    },
    {
      "cell_type": "code",
      "execution_count": 9,
      "metadata": {
        "id": "lZe9gaJeoGVP",
        "colab": {
          "base_uri": "https://localhost:8080/"
        },
        "outputId": "f5e7ddb9-d699-419f-865d-bbc853266652"
      },
      "outputs": [
        {
          "output_type": "stream",
          "name": "stdout",
          "text": [
            "252\n"
          ]
        }
      ],
      "source": [
        "# Test the method with just the first word after the seed text\n",
        "seed_text = \"im feeling chills\"\n",
        "next_words = 100\n",
        "  \n",
        "token_list = tokenizer.texts_to_sequences([seed_text])[0]\n",
        "token_list = pad_sequences([token_list], maxlen=max_sequence_len-1, padding='pre')\n",
        "predicted_probs = model.predict(token_list)[0]\n",
        "predicted = np.random.choice([x for x in range(len(predicted_probs))], \n",
        "                             p=predicted_probs)\n",
        "# Running this cell multiple times should get you some variance in output\n",
        "print(predicted)"
      ]
    },
    {
      "cell_type": "code",
      "execution_count": 10,
      "metadata": {
        "id": "ee7WKgRGrJy1",
        "colab": {
          "base_uri": "https://localhost:8080/"
        },
        "outputId": "c410dbb1-1e9c-4d95-d57d-58fc070692bf"
      },
      "outputs": [
        {
          "output_type": "stream",
          "name": "stdout",
          "text": [
            "im feeling chills blood my dust were the queen of the door yeah baby flash of world wing lost angel havent scenes killer conceal impossible feet conceal write take mercy mercy bet power fights rattlesnake escaping rocket turmoil cocoon lets nancy take me me home me right right down upon your knees been old hoppin bitch trees swing posses walks the beast is me what more missing a choice holdin evil killer evil havent scenes hot explain evil brillaba bet baa attic habia came jungles tambourine whom are hot realized write hate hello from theyre high smiling having from past old place runner\n"
          ]
        }
      ],
      "source": [
        "# Use this process for the full output generation\n",
        "seed_text = \"im feeling chills\"\n",
        "next_words = 100\n",
        "  \n",
        "for _ in range(next_words):\n",
        "  token_list = tokenizer.texts_to_sequences([seed_text])[0]\n",
        "  token_list = pad_sequences([token_list], maxlen=max_sequence_len-1, padding='pre')\n",
        "  predicted_probs = model.predict(token_list)[0]\n",
        "  predicted = np.random.choice([x for x in range(len(predicted_probs))],\n",
        "                               p=predicted_probs)\n",
        "  output_word = \"\"\n",
        "  for word, index in tokenizer.word_index.items():\n",
        "    if index == predicted:\n",
        "      output_word = word\n",
        "      break\n",
        "  seed_text += \" \" + output_word\n",
        "print(seed_text)"
      ]
    }
  ]
}